{
 "cells": [
  {
   "cell_type": "code",
   "execution_count": null,
   "id": "2eadadfe",
   "metadata": {},
   "outputs": [],
   "source": [
    "import tensorflow as tf\n",
    "import matplotlib.pyplot as plt\n",
    "import pandas as pd\n",
    "import numpy as np\n",
    "from sklearn.model_selection import train_test_split\n",
    "from sklearn.metrics import accuracy_score\n",
    "from sklearn import svm\n",
    "from PIL import Image\n",
    "import os\n",
    "import shutil"
   ]
  },
  {
   "cell_type": "code",
   "execution_count": null,
   "id": "b27af35a",
   "metadata": {},
   "outputs": [],
   "source": [
    "IMAGE_SIZE=64\n",
    "BATCH_SIZE=16\n",
    "CHANNELS=3"
   ]
  },
  {
   "cell_type": "code",
   "execution_count": 7,
   "id": "9a7d36f3",
   "metadata": {},
   "outputs": [
    {
     "name": "stdout",
     "output_type": "stream",
     "text": [
      "Requirement already satisfied: seaborn in c:\\users\\rahul nair\\anaconda3\\lib\\site-packages (0.11.2)\n",
      "Requirement already satisfied: scipy>=1.0 in c:\\users\\rahul nair\\anaconda3\\lib\\site-packages (from seaborn) (1.9.1)\n",
      "Requirement already satisfied: numpy>=1.15 in c:\\users\\rahul nair\\anaconda3\\lib\\site-packages (from seaborn) (1.21.5)\n",
      "Requirement already satisfied: matplotlib>=2.2 in c:\\users\\rahul nair\\anaconda3\\lib\\site-packages (from seaborn) (3.5.2)\n",
      "Requirement already satisfied: pandas>=0.23 in c:\\users\\rahul nair\\anaconda3\\lib\\site-packages (from seaborn) (1.4.4)\n",
      "Requirement already satisfied: kiwisolver>=1.0.1 in c:\\users\\rahul nair\\anaconda3\\lib\\site-packages (from matplotlib>=2.2->seaborn) (1.4.2)\n",
      "Requirement already satisfied: pillow>=6.2.0 in c:\\users\\rahul nair\\anaconda3\\lib\\site-packages (from matplotlib>=2.2->seaborn) (9.2.0)\n",
      "Requirement already satisfied: pyparsing>=2.2.1 in c:\\users\\rahul nair\\anaconda3\\lib\\site-packages (from matplotlib>=2.2->seaborn) (3.0.9)\n",
      "Requirement already satisfied: cycler>=0.10 in c:\\users\\rahul nair\\anaconda3\\lib\\site-packages (from matplotlib>=2.2->seaborn) (0.11.0)\n",
      "Requirement already satisfied: python-dateutil>=2.7 in c:\\users\\rahul nair\\anaconda3\\lib\\site-packages (from matplotlib>=2.2->seaborn) (2.8.2)\n",
      "Requirement already satisfied: packaging>=20.0 in c:\\users\\rahul nair\\anaconda3\\lib\\site-packages (from matplotlib>=2.2->seaborn) (21.3)\n",
      "Requirement already satisfied: fonttools>=4.22.0 in c:\\users\\rahul nair\\anaconda3\\lib\\site-packages (from matplotlib>=2.2->seaborn) (4.25.0)\n",
      "Requirement already satisfied: pytz>=2020.1 in c:\\users\\rahul nair\\anaconda3\\lib\\site-packages (from pandas>=0.23->seaborn) (2022.1)\n",
      "Requirement already satisfied: six>=1.5 in c:\\users\\rahul nair\\anaconda3\\lib\\site-packages (from python-dateutil>=2.7->matplotlib>=2.2->seaborn) (1.16.0)\n"
     ]
    }
   ],
   "source": [
    "!pip install seaborn"
   ]
  },
  {
   "cell_type": "code",
   "execution_count": null,
   "id": "6dc9ac6f",
   "metadata": {},
   "outputs": [],
   "source": []
  },
  {
   "cell_type": "code",
   "execution_count": 6,
   "id": "a77e4795",
   "metadata": {},
   "outputs": [
    {
     "name": "stdout",
     "output_type": "stream",
     "text": [
      "Collecting imgaug\n",
      "  Downloading imgaug-0.4.0-py2.py3-none-any.whl (948 kB)\n",
      "     -------------------------------------- 948.0/948.0 kB 1.3 MB/s eta 0:00:00\n",
      "Collecting opencv-python\n",
      "  Downloading opencv_python-4.7.0.68-cp37-abi3-win_amd64.whl (38.2 MB)\n",
      "     ---------------------------------------- 38.2/38.2 MB 1.1 MB/s eta 0:00:00\n",
      "Requirement already satisfied: Pillow in c:\\users\\rahul nair\\anaconda3\\lib\\site-packages (from imgaug) (9.2.0)\n",
      "Requirement already satisfied: scipy in c:\\users\\rahul nair\\anaconda3\\lib\\site-packages (from imgaug) (1.9.1)\n",
      "Requirement already satisfied: numpy>=1.15 in c:\\users\\rahul nair\\anaconda3\\lib\\site-packages (from imgaug) (1.21.5)\n",
      "Collecting Shapely\n",
      "  Downloading shapely-2.0.0-cp39-cp39-win_amd64.whl (1.4 MB)\n",
      "     ---------------------------------------- 1.4/1.4 MB 1.1 MB/s eta 0:00:00\n",
      "Requirement already satisfied: six in c:\\users\\rahul nair\\anaconda3\\lib\\site-packages (from imgaug) (1.16.0)\n",
      "Requirement already satisfied: scikit-image>=0.14.2 in c:\\users\\rahul nair\\anaconda3\\lib\\site-packages (from imgaug) (0.19.2)\n",
      "Requirement already satisfied: imageio in c:\\users\\rahul nair\\anaconda3\\lib\\site-packages (from imgaug) (2.19.3)\n",
      "Requirement already satisfied: matplotlib in c:\\users\\rahul nair\\anaconda3\\lib\\site-packages (from imgaug) (3.5.2)\n",
      "Requirement already satisfied: packaging>=20.0 in c:\\users\\rahul nair\\anaconda3\\lib\\site-packages (from scikit-image>=0.14.2->imgaug) (21.3)\n",
      "Requirement already satisfied: tifffile>=2019.7.26 in c:\\users\\rahul nair\\anaconda3\\lib\\site-packages (from scikit-image>=0.14.2->imgaug) (2021.7.2)\n",
      "Requirement already satisfied: networkx>=2.2 in c:\\users\\rahul nair\\anaconda3\\lib\\site-packages (from scikit-image>=0.14.2->imgaug) (2.8.4)\n",
      "Requirement already satisfied: PyWavelets>=1.1.1 in c:\\users\\rahul nair\\anaconda3\\lib\\site-packages (from scikit-image>=0.14.2->imgaug) (1.3.0)\n",
      "Requirement already satisfied: python-dateutil>=2.7 in c:\\users\\rahul nair\\anaconda3\\lib\\site-packages (from matplotlib->imgaug) (2.8.2)\n",
      "Requirement already satisfied: kiwisolver>=1.0.1 in c:\\users\\rahul nair\\anaconda3\\lib\\site-packages (from matplotlib->imgaug) (1.4.2)\n",
      "Requirement already satisfied: cycler>=0.10 in c:\\users\\rahul nair\\anaconda3\\lib\\site-packages (from matplotlib->imgaug) (0.11.0)\n",
      "Requirement already satisfied: pyparsing>=2.2.1 in c:\\users\\rahul nair\\anaconda3\\lib\\site-packages (from matplotlib->imgaug) (3.0.9)\n",
      "Requirement already satisfied: fonttools>=4.22.0 in c:\\users\\rahul nair\\anaconda3\\lib\\site-packages (from matplotlib->imgaug) (4.25.0)\n",
      "Installing collected packages: Shapely, opencv-python, imgaug\n",
      "Successfully installed Shapely-2.0.0 imgaug-0.4.0 opencv-python-4.7.0.68\n"
     ]
    }
   ],
   "source": [
    "!pip install imgaug\n"
   ]
  },
  {
   "cell_type": "code",
   "execution_count": 3,
   "id": "751924d8",
   "metadata": {},
   "outputs": [
    {
     "name": "stderr",
     "output_type": "stream",
     "text": [
      "C:\\Users\\RAHUL NAIR\\AppData\\Local\\Temp\\ipykernel_19776\\746396307.py:26: FutureWarning: The frame.append method is deprecated and will be removed from pandas in a future version. Use pandas.concat instead.\n",
      "  df=df.append(df_train,ignore_index=True)\n",
      "C:\\Users\\RAHUL NAIR\\AppData\\Local\\Temp\\ipykernel_19776\\746396307.py:27: FutureWarning: The frame.append method is deprecated and will be removed from pandas in a future version. Use pandas.concat instead.\n",
      "  df=df.append(df_test,ignore_index=True)\n"
     ]
    },
    {
     "data": {
      "text/plain": [
       "(10049, 2)"
      ]
     },
     "execution_count": 3,
     "metadata": {},
     "output_type": "execute_result"
    }
   ],
   "source": [
    "from sklearn.model_selection import train_test_split\n",
    "\n",
    "filenames=['bkl', 'nv', 'df', 'mel', 'vasc', 'bcc', 'akiec','healthy2']\n",
    "df=pd.DataFrame()\n",
    "for filename in filenames:\n",
    "\n",
    "    src_dir = f'C:/Users/RAHUL NAIR/Documents/all folders/Project folder/HAM dataset/reorganized/data/{filename}/'\n",
    "\n",
    "    # Set the path to the new directory where the selected images will be stored\n",
    "    dst_dir = f'C:/Users/RAHUL NAIR/Documents/all folders/Project folder/HAM dataset/reorganized/train/{filename}/'\n",
    "    dst_dir1 = f'C:/Users/RAHUL NAIR/Documents/all folders/Project folder/HAM dataset/reorganized/test/{filename}/'\n",
    "\n",
    "    # Create the new directory if it doesn't exist\n",
    "    if not os.path.exists(dst_dir):\n",
    "        os.makedirs(dst_dir)\n",
    "    if not os.path.exists(dst_dir1):\n",
    "        os.makedirs(dst_dir1)\n",
    "    # Get a list of the images in the directory\n",
    "    images = os.listdir(dst_dir)\n",
    "    images1 = os.listdir(dst_dir1)\n",
    "    len(images)\n",
    "    \n",
    "# Pandas dataframe\n",
    "    df_train = pd.DataFrame({'image': images,'label':filename})\n",
    "    df_test =pd.DataFrame({'image':images1,'label':filename})\n",
    "    df=df.append(df_train,ignore_index=True)\n",
    "    df=df.append(df_test,ignore_index=True)\n",
    "#     for image in train_images[\"image\"]:\n",
    "#         src_path = os.path.join(src_dir, image)\n",
    "#         dst_path = os.path.join(dst_dir, image)\n",
    "#         shutil.copy(src_path, dst_path)\n",
    "#     for image in test_images[\"image\"]:\n",
    "#         src_path1 = os.path.join(src_dir, image)\n",
    "#         dst_path1 = os.path.join(dst_dir1, image)\n",
    "#         shutil.copy(src_path1, dst_path1)\n",
    "# images = os.listdir(src_dir)\n",
    "# print(images)\n",
    "# len(images)\n",
    "df.shape"
   ]
  },
  {
   "cell_type": "code",
   "execution_count": null,
   "id": "3bfa2ca4",
   "metadata": {},
   "outputs": [],
   "source": [
    "\n",
    "# Load the image data and labels\n",
    "X = []\n",
    "y = []\n",
    "\n",
    "# for i in df_train[\"image\"]:\n",
    "#     print(i)\n",
    "# #     image = Image.open(f\"C:/Users/RAHUL NAIR/Documents/all folders/Project folder/HAM dataset/reorganized/train/{i['image']}\")\n",
    "# #     X.append(np.array(image).flatten())\n",
    "# #     y.append(i[\"label\"])\n",
    "    \n",
    "# # for i in df_test:\n",
    "# #     image = Image.open(f\"C:/Users/RAHUL NAIR/Documents/all folders/Project folder/HAM dataset/reorganized/train/{i['image']}\")\n",
    "# #     X.append(np.array(image).flatten())\n",
    "# #     y.append(i[\"label\"])\n",
    "\n",
    "for image, label in zip(df[\"image\"], df[\"label\"]):\n",
    "    filepath = f\"C:/Users/RAHUL NAIR/Documents/all folders/Project folder/HAM dataset/HAM10000_images/{image}\"\n",
    "    i=1\n",
    "#     print(filepath)\n",
    "    img = Image.open(filepath)\n",
    "    print(\"resize\",i++)\n",
    "    img = img.resize((64,64))\n",
    "    \n",
    "    X.append(np.array(img).flatten())\n",
    "    y.append(label)\n",
    "\n",
    "    \n",
    "    \n",
    "print(\"Convert the data and labels to numpy arrays\")\n",
    "# Convert the data and labels to numpy arrays\n",
    "X = np.array(X)\n",
    "y = np.array(y)\n",
    "\n",
    "print(\"# Split the data into training and test sets\")\n",
    "X_train, X_test, y_train, y_test = train_test_split(X, y, test_size=0.25,random_state=10)\n",
    "\n",
    "print(\"# Create the SVM model\")\n",
    "clf = svm.SVC(kernel='linear')\n",
    "\n",
    "print(\"# Train the model on the training data\")\n",
    "clf.fit(X_train, y_train)\n",
    "\n",
    "print(\"# Make predictions on the test data\")\n",
    "y_pred = clf.predict(X_test)\n",
    "\n",
    "print(\"# Evaluate the model's performance\")\n",
    "accuracy = accuracy_score(y_test, y_pred)\n",
    "print(\"Accuracy: {:.2f}%\".format(accuracy * 100))\n"
   ]
  },
  {
   "cell_type": "code",
   "execution_count": null,
   "id": "9ac88566",
   "metadata": {},
   "outputs": [],
   "source": []
  }
 ],
 "metadata": {
  "kernelspec": {
   "display_name": "tf",
   "language": "python",
   "name": "tf"
  },
  "language_info": {
   "codemirror_mode": {
    "name": "ipython",
    "version": 3
   },
   "file_extension": ".py",
   "mimetype": "text/x-python",
   "name": "python",
   "nbconvert_exporter": "python",
   "pygments_lexer": "ipython3",
   "version": "3.9.15"
  }
 },
 "nbformat": 4,
 "nbformat_minor": 5
}

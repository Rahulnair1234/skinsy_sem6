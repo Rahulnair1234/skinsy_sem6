{
 "cells": [
  {
   "cell_type": "code",
   "execution_count": 1,
   "metadata": {},
   "outputs": [],
   "source": [
    "import os\n",
    "from imblearn.over_sampling import SMOTE\n",
    "import numpy as np\n",
    "from PIL import Image"
   ]
  },
  {
   "cell_type": "code",
   "execution_count": 2,
   "metadata": {},
   "outputs": [],
   "source": [
    "filenames=['bkl', 'nv', 'df', 'mel', 'vasc', 'bcc', 'akiec','healthy']\n",
    "filenames1=['Acne and Rosacea Photos', \n",
    "'Atopic Dermatitis Photos', \n",
    "'Bullous Disease Photos',\n",
    "'Cellulitis Impetigo and other Bacterial Infections', \n",
    "'Eczema Photos', \n",
    "'Exanthems and Drug Eruptions',\n",
    " 'Hair Loss Photos Alopecia and other Hair Diseases', \n",
    " 'Herpes HPV and other STDs Photos',\n",
    "  'Light Diseases and Disorders of Pigmentation',\n",
    "  'Lupus and other Connective Tissue diseases',\n",
    " 'Nail Fungus and other Nail Disease',\n",
    "  'Poison Ivy Photos and other Contact Dermatitis',\n",
    "  'Psoriasis pictures Lichen Planus and related diseases',\n",
    "  'Scabies Lyme Disease and other Infestations and Bites', \n",
    "  'Systemic Disease',\n",
    "   'Tinea Ringworm Candidiasis and other Fungal Infections',\n",
    "'Urticaria Hives',\n",
    "'Vascular Tumors', \n",
    "'Vasculitis Photos',\n",
    "'Warts Molluscum and other Viral Infections']"
   ]
  },
  {
   "cell_type": "code",
   "execution_count": 3,
   "metadata": {},
   "outputs": [],
   "source": [
    "def load_images_from_dir(dir_path):\n",
    "    images = []\n",
    "    for filename in os.listdir(dir_path):\n",
    "        with Image.open(os.path.join(dir_path, filename)) as img:\n",
    "            resized_img = img.resize((224, 224))\n",
    "            images.append(np.array(resized_img))\n",
    "    return np.array(images)"
   ]
  },
  {
   "cell_type": "code",
   "execution_count": 4,
   "metadata": {},
   "outputs": [],
   "source": [
    "def reshape_images(images):\n",
    "    return images.reshape(images.shape[0], -1)"
   ]
  },
  {
   "cell_type": "code",
   "execution_count": 5,
   "metadata": {},
   "outputs": [],
   "source": [
    "def count_images(dir_path):\n",
    "    return len(os.listdir(dir_path))"
   ]
  },
  {
   "cell_type": "code",
   "execution_count": 6,
   "metadata": {},
   "outputs": [],
   "source": [
    "def create_synthetic_images(images, target_dir_path):\n",
    "    target_count = count_images(target_dir_path)\n",
    "    print(target_count)\n",
    "    smote = SMOTE(sampling_strategy={target_count})\n",
    "    print([0] * images.shape[0])\n",
    "    synthetic_images, _ = smote.fit_resample(images, [1] * images.shape[0])\n",
    "    return synthetic_images"
   ]
  },
  {
   "cell_type": "code",
   "execution_count": 7,
   "metadata": {},
   "outputs": [],
   "source": [
    "def save_images(synthetic_images, dir_path):\n",
    "    for i, img in enumerate(synthetic_images):\n",
    "        with Image.fromarray(img.reshape(*original_shape)) as pil_img:\n",
    "            pil_img.save(os.path.join(dir_path, f\"synthetic_{i}.jpg\"))"
   ]
  },
  {
   "cell_type": "code",
   "execution_count": 8,
   "metadata": {},
   "outputs": [],
   "source": [
    "images=load_images_from_dir(\"C:/Users/RAHUL NAIR/Documents/all folders/Project folder/HAM dataset/sample/train/Acne and Rosacea Photos\")"
   ]
  },
  {
   "cell_type": "code",
   "execution_count": 9,
   "metadata": {},
   "outputs": [],
   "source": [
    "images_reshaped=reshape_images(images)"
   ]
  },
  {
   "cell_type": "code",
   "execution_count": 10,
   "metadata": {},
   "outputs": [
    {
     "data": {
      "text/plain": [
       "array([[156, 122, 114, ...,   9,   8,   4],\n",
       "       [163, 129, 127, ..., 108,  82,  79],\n",
       "       [236, 172, 174, ..., 135, 105, 103],\n",
       "       ...,\n",
       "       [ 83,  59,  49, ..., 143, 102,  82],\n",
       "       [157, 115,  73, ...,  58,  40,  28],\n",
       "       [173, 131, 132, ..., 108,  74,  71]], dtype=uint8)"
      ]
     },
     "execution_count": 10,
     "metadata": {},
     "output_type": "execute_result"
    }
   ],
   "source": [
    "images_reshaped"
   ]
  },
  {
   "cell_type": "code",
   "execution_count": 11,
   "metadata": {},
   "outputs": [],
   "source": [
    "import imblearn"
   ]
  },
  {
   "cell_type": "code",
   "execution_count": 12,
   "metadata": {},
   "outputs": [
    {
     "name": "stdout",
     "output_type": "stream",
     "text": [
      "0.10.1\n"
     ]
    }
   ],
   "source": [
    "print(imblearn.__version__)"
   ]
  },
  {
   "cell_type": "code",
   "execution_count": 13,
   "metadata": {},
   "outputs": [
    {
     "data": {
      "text/plain": [
       "(840, 150528)"
      ]
     },
     "execution_count": 13,
     "metadata": {},
     "output_type": "execute_result"
    }
   ],
   "source": [
    "images_reshaped.shape"
   ]
  },
  {
   "cell_type": "code",
   "execution_count": 57,
   "metadata": {},
   "outputs": [
    {
     "name": "stdout",
     "output_type": "stream",
     "text": [
      "6705\n",
      "[0, 0, 0, 0, 0, 0, 0, 0, 0, 0, 0, 0, 0, 0, 0, 0, 0, 0, 0, 0, 0, 0, 0, 0, 0]\n"
     ]
    },
    {
     "ename": "InvalidParameterError",
     "evalue": "The 'sampling_strategy' parameter of SMOTE must be a float in the range (0, 1], a str among {'minority', 'auto', 'not minority', 'all', 'not majority'}, an instance of 'collections.abc.Mapping' or a callable. Got {6705} instead.",
     "output_type": "error",
     "traceback": [
      "\u001b[1;31m---------------------------------------------------------------------------\u001b[0m",
      "\u001b[1;31mInvalidParameterError\u001b[0m                     Traceback (most recent call last)",
      "Cell \u001b[1;32mIn[57], line 1\u001b[0m\n\u001b[1;32m----> 1\u001b[0m synthetic_images \u001b[39m=\u001b[39m create_synthetic_images(images_reshaped, \u001b[39m\"\u001b[39;49m\u001b[39mC:/Users/RAHUL NAIR/Documents/all folders/Project folder/HAM dataset/reorganized/data/nv/\u001b[39;49m\u001b[39m\"\u001b[39;49m)\n\u001b[0;32m      2\u001b[0m save_images(synthetic_images, \u001b[39m\"\u001b[39m\u001b[39mC:/Users/RAHUL NAIR/Documents/all folders/Project folder/HAM dataset/synthetic_files/synthetic_healthy\u001b[39m\u001b[39m\"\u001b[39m)\n",
      "Cell \u001b[1;32mIn[56], line 6\u001b[0m, in \u001b[0;36mcreate_synthetic_images\u001b[1;34m(images, target_dir_path)\u001b[0m\n\u001b[0;32m      4\u001b[0m smote \u001b[39m=\u001b[39m SMOTE(sampling_strategy\u001b[39m=\u001b[39m{target_count})\n\u001b[0;32m      5\u001b[0m \u001b[39mprint\u001b[39m([\u001b[39m0\u001b[39m] \u001b[39m*\u001b[39m images\u001b[39m.\u001b[39mshape[\u001b[39m0\u001b[39m])\n\u001b[1;32m----> 6\u001b[0m synthetic_images, _ \u001b[39m=\u001b[39m smote\u001b[39m.\u001b[39;49mfit_resample(images, [\u001b[39m1\u001b[39;49m] \u001b[39m*\u001b[39;49m images\u001b[39m.\u001b[39;49mshape[\u001b[39m0\u001b[39;49m])\n\u001b[0;32m      7\u001b[0m \u001b[39mreturn\u001b[39;00m synthetic_images\n",
      "File \u001b[1;32mc:\\Users\\RAHUL NAIR\\anaconda3\\envs\\tf\\lib\\site-packages\\imblearn\\base.py:202\u001b[0m, in \u001b[0;36mBaseSampler.fit_resample\u001b[1;34m(self, X, y)\u001b[0m\n\u001b[0;32m    181\u001b[0m \u001b[39mdef\u001b[39;00m \u001b[39mfit_resample\u001b[39m(\u001b[39mself\u001b[39m, X, y):\n\u001b[0;32m    182\u001b[0m \u001b[39m    \u001b[39m\u001b[39m\"\"\"Resample the dataset.\u001b[39;00m\n\u001b[0;32m    183\u001b[0m \n\u001b[0;32m    184\u001b[0m \u001b[39m    Parameters\u001b[39;00m\n\u001b[1;32m   (...)\u001b[0m\n\u001b[0;32m    200\u001b[0m \u001b[39m        The corresponding label of `X_resampled`.\u001b[39;00m\n\u001b[0;32m    201\u001b[0m \u001b[39m    \"\"\"\u001b[39;00m\n\u001b[1;32m--> 202\u001b[0m     \u001b[39mself\u001b[39;49m\u001b[39m.\u001b[39;49m_validate_params()\n\u001b[0;32m    203\u001b[0m     \u001b[39mreturn\u001b[39;00m \u001b[39msuper\u001b[39m()\u001b[39m.\u001b[39mfit_resample(X, y)\n",
      "File \u001b[1;32mc:\\Users\\RAHUL NAIR\\anaconda3\\envs\\tf\\lib\\site-packages\\sklearn\\base.py:570\u001b[0m, in \u001b[0;36mBaseEstimator._validate_params\u001b[1;34m(self)\u001b[0m\n\u001b[0;32m    562\u001b[0m \u001b[39mdef\u001b[39;00m \u001b[39m_validate_params\u001b[39m(\u001b[39mself\u001b[39m):\n\u001b[0;32m    563\u001b[0m \u001b[39m    \u001b[39m\u001b[39m\"\"\"Validate types and values of constructor parameters\u001b[39;00m\n\u001b[0;32m    564\u001b[0m \n\u001b[0;32m    565\u001b[0m \u001b[39m    The expected type and values must be defined in the `_parameter_constraints`\u001b[39;00m\n\u001b[1;32m   (...)\u001b[0m\n\u001b[0;32m    568\u001b[0m \u001b[39m    accepted constraints.\u001b[39;00m\n\u001b[0;32m    569\u001b[0m \u001b[39m    \"\"\"\u001b[39;00m\n\u001b[1;32m--> 570\u001b[0m     validate_parameter_constraints(\n\u001b[0;32m    571\u001b[0m         \u001b[39mself\u001b[39;49m\u001b[39m.\u001b[39;49m_parameter_constraints,\n\u001b[0;32m    572\u001b[0m         \u001b[39mself\u001b[39;49m\u001b[39m.\u001b[39;49mget_params(deep\u001b[39m=\u001b[39;49m\u001b[39mFalse\u001b[39;49;00m),\n\u001b[0;32m    573\u001b[0m         caller_name\u001b[39m=\u001b[39;49m\u001b[39mself\u001b[39;49m\u001b[39m.\u001b[39;49m\u001b[39m__class__\u001b[39;49m\u001b[39m.\u001b[39;49m\u001b[39m__name__\u001b[39;49m,\n\u001b[0;32m    574\u001b[0m     )\n",
      "File \u001b[1;32mc:\\Users\\RAHUL NAIR\\anaconda3\\envs\\tf\\lib\\site-packages\\sklearn\\utils\\_param_validation.py:97\u001b[0m, in \u001b[0;36mvalidate_parameter_constraints\u001b[1;34m(parameter_constraints, params, caller_name)\u001b[0m\n\u001b[0;32m     91\u001b[0m \u001b[39melse\u001b[39;00m:\n\u001b[0;32m     92\u001b[0m     constraints_str \u001b[39m=\u001b[39m (\n\u001b[0;32m     93\u001b[0m         \u001b[39mf\u001b[39m\u001b[39m\"\u001b[39m\u001b[39m{\u001b[39;00m\u001b[39m'\u001b[39m\u001b[39m, \u001b[39m\u001b[39m'\u001b[39m\u001b[39m.\u001b[39mjoin([\u001b[39mstr\u001b[39m(c)\u001b[39m \u001b[39m\u001b[39mfor\u001b[39;00m\u001b[39m \u001b[39mc\u001b[39m \u001b[39m\u001b[39min\u001b[39;00m\u001b[39m \u001b[39mconstraints[:\u001b[39m-\u001b[39m\u001b[39m1\u001b[39m]])\u001b[39m}\u001b[39;00m\u001b[39m or\u001b[39m\u001b[39m\"\u001b[39m\n\u001b[0;32m     94\u001b[0m         \u001b[39mf\u001b[39m\u001b[39m\"\u001b[39m\u001b[39m \u001b[39m\u001b[39m{\u001b[39;00mconstraints[\u001b[39m-\u001b[39m\u001b[39m1\u001b[39m]\u001b[39m}\u001b[39;00m\u001b[39m\"\u001b[39m\n\u001b[0;32m     95\u001b[0m     )\n\u001b[1;32m---> 97\u001b[0m \u001b[39mraise\u001b[39;00m InvalidParameterError(\n\u001b[0;32m     98\u001b[0m     \u001b[39mf\u001b[39m\u001b[39m\"\u001b[39m\u001b[39mThe \u001b[39m\u001b[39m{\u001b[39;00mparam_name\u001b[39m!r}\u001b[39;00m\u001b[39m parameter of \u001b[39m\u001b[39m{\u001b[39;00mcaller_name\u001b[39m}\u001b[39;00m\u001b[39m must be\u001b[39m\u001b[39m\"\u001b[39m\n\u001b[0;32m     99\u001b[0m     \u001b[39mf\u001b[39m\u001b[39m\"\u001b[39m\u001b[39m \u001b[39m\u001b[39m{\u001b[39;00mconstraints_str\u001b[39m}\u001b[39;00m\u001b[39m. Got \u001b[39m\u001b[39m{\u001b[39;00mparam_val\u001b[39m!r}\u001b[39;00m\u001b[39m instead.\u001b[39m\u001b[39m\"\u001b[39m\n\u001b[0;32m    100\u001b[0m )\n",
      "\u001b[1;31mInvalidParameterError\u001b[0m: The 'sampling_strategy' parameter of SMOTE must be a float in the range (0, 1], a str among {'minority', 'auto', 'not minority', 'all', 'not majority'}, an instance of 'collections.abc.Mapping' or a callable. Got {6705} instead."
     ]
    }
   ],
   "source": [
    "synthetic_images = create_synthetic_images(images_reshaped, \"C:/Users/RAHUL NAIR/Documents/all folders/Project folder/HAM dataset/reorganized/data/nv/\")\n",
    "save_images(synthetic_images, \"C:/Users/RAHUL NAIR/Documents/all folders/Project folder/HAM dataset/synthetic_files/synthetic_healthy\")"
   ]
  }
 ],
 "metadata": {
  "kernelspec": {
   "display_name": "tf",
   "language": "python",
   "name": "python3"
  },
  "language_info": {
   "codemirror_mode": {
    "name": "ipython",
    "version": 3
   },
   "file_extension": ".py",
   "mimetype": "text/x-python",
   "name": "python",
   "nbconvert_exporter": "python",
   "pygments_lexer": "ipython3",
   "version": "3.9.15"
  },
  "orig_nbformat": 4,
  "vscode": {
   "interpreter": {
    "hash": "59a47b25b72a5e2cfcbe81cd8bdcf7a60a4802a7d1c9e7b2e456b34033659ac7"
   }
  }
 },
 "nbformat": 4,
 "nbformat_minor": 2
}

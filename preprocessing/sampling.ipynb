{
 "cells": [
  {
   "cell_type": "code",
   "execution_count": 1,
   "metadata": {},
   "outputs": [],
   "source": [
    "from keras.preprocessing.image import ImageDataGenerator\n",
    "from PIL import Image"
   ]
  },
  {
   "cell_type": "code",
   "execution_count": 2,
   "metadata": {},
   "outputs": [],
   "source": [
    "datagen = ImageDataGenerator(\n",
    "    rotation_range=40,\n",
    "    width_shift_range=0.2,\n",
    "    height_shift_range=0.2,\n",
    "    shear_range=0.2,\n",
    "    zoom_range=0.2,\n",
    "    fill_mode='nearest')\n"
   ]
  },
  {
   "cell_type": "code",
   "execution_count": 33,
   "metadata": {},
   "outputs": [],
   "source": [
    "import os\n",
    "filenames=['bkl', 'nv', 'df', 'mel', 'vasc', 'bcc', 'akiec','healthy','Acne and Rosacea Photos','Atopic Dermatitis Photos','Bullous Disease Photos','Cellulitis Impetigo and other Bacterial Infections','Eczema Photos','Exanthems and Drug Eruptions', 'Hair Loss Photos Alopecia and other Hair Diseases', 'Herpes HPV and other STDs Photos',  'Light Diseases and Disorders of Pigmentation',  'Lupus and other Connective Tissue diseases', 'Nail Fungus and other Nail Disease',  'Poison Ivy Photos and other Contact Dermatitis',  'Psoriasis pictures Lichen Planus and related diseases',  'Scabies Lyme Disease and other Infestations and Bites',  'Systemic Disease',   'Tinea Ringworm Candidiasis and other Fungal Infections','Urticaria Hives','Vascular Tumors', 'Vasculitis Photos','Warts Molluscum and other Viral Infections']\n",
    "\n",
    "for filename in filenames:\n",
    "\n",
    "    \n",
    "\n",
    "    # Set the path to the new directory where the selected images will be stored\n",
    "    dst_dir = f'C:/Users/RAHUL NAIR/Documents/all folders/Project folder/HAM dataset/generated2/{filename}/'\n",
    "\n",
    "\n",
    "    # Create the new directory if it doesn't exist\n",
    "    if not os.path.exists(dst_dir):\n",
    "        os.makedirs(dst_dir)\n",
    "   "
   ]
  },
  {
   "cell_type": "code",
   "execution_count": 34,
   "metadata": {},
   "outputs": [
    {
     "name": "stdout",
     "output_type": "stream",
     "text": [
      "C:/Users/RAHUL NAIR/Documents/all folders/Project folder/HAM dataset/sample/training/bkl/\n",
      "C:/Users/RAHUL NAIR/Documents/all folders/Project folder/HAM dataset/generated2/bkl/\n",
      "Found 1099 images belonging to 1 classes.\n",
      "C:/Users/RAHUL NAIR/Documents/all folders/Project folder/HAM dataset/sample/training/nv/\n",
      "C:/Users/RAHUL NAIR/Documents/all folders/Project folder/HAM dataset/generated2/nv/\n",
      "Found 6705 images belonging to 1 classes.\n",
      "C:/Users/RAHUL NAIR/Documents/all folders/Project folder/HAM dataset/sample/training/df/\n",
      "C:/Users/RAHUL NAIR/Documents/all folders/Project folder/HAM dataset/generated2/df/\n",
      "Found 115 images belonging to 1 classes.\n",
      "C:/Users/RAHUL NAIR/Documents/all folders/Project folder/HAM dataset/sample/training/mel/\n",
      "C:/Users/RAHUL NAIR/Documents/all folders/Project folder/HAM dataset/generated2/mel/\n",
      "Found 1113 images belonging to 1 classes.\n",
      "C:/Users/RAHUL NAIR/Documents/all folders/Project folder/HAM dataset/sample/training/vasc/\n",
      "C:/Users/RAHUL NAIR/Documents/all folders/Project folder/HAM dataset/generated2/vasc/\n",
      "Found 142 images belonging to 1 classes.\n",
      "C:/Users/RAHUL NAIR/Documents/all folders/Project folder/HAM dataset/sample/training/bcc/\n",
      "C:/Users/RAHUL NAIR/Documents/all folders/Project folder/HAM dataset/generated2/bcc/\n",
      "Found 514 images belonging to 1 classes.\n",
      "C:/Users/RAHUL NAIR/Documents/all folders/Project folder/HAM dataset/sample/training/akiec/\n",
      "C:/Users/RAHUL NAIR/Documents/all folders/Project folder/HAM dataset/generated2/akiec/\n",
      "Found 327 images belonging to 1 classes.\n",
      "C:/Users/RAHUL NAIR/Documents/all folders/Project folder/HAM dataset/sample/training/healthy/\n",
      "C:/Users/RAHUL NAIR/Documents/all folders/Project folder/HAM dataset/generated2/healthy/\n",
      "Found 25 images belonging to 1 classes.\n",
      "C:/Users/RAHUL NAIR/Documents/all folders/Project folder/HAM dataset/sample/training/Acne and Rosacea Photos/\n",
      "C:/Users/RAHUL NAIR/Documents/all folders/Project folder/HAM dataset/generated2/Acne and Rosacea Photos/\n",
      "Found 840 images belonging to 1 classes.\n",
      "C:/Users/RAHUL NAIR/Documents/all folders/Project folder/HAM dataset/sample/training/Atopic Dermatitis Photos/\n",
      "C:/Users/RAHUL NAIR/Documents/all folders/Project folder/HAM dataset/generated2/Atopic Dermatitis Photos/\n",
      "Found 489 images belonging to 1 classes.\n",
      "C:/Users/RAHUL NAIR/Documents/all folders/Project folder/HAM dataset/sample/training/Bullous Disease Photos/\n",
      "C:/Users/RAHUL NAIR/Documents/all folders/Project folder/HAM dataset/generated2/Bullous Disease Photos/\n",
      "Found 448 images belonging to 1 classes.\n",
      "C:/Users/RAHUL NAIR/Documents/all folders/Project folder/HAM dataset/sample/training/Cellulitis Impetigo and other Bacterial Infections/\n",
      "C:/Users/RAHUL NAIR/Documents/all folders/Project folder/HAM dataset/generated2/Cellulitis Impetigo and other Bacterial Infections/\n",
      "Found 288 images belonging to 1 classes.\n",
      "C:/Users/RAHUL NAIR/Documents/all folders/Project folder/HAM dataset/sample/training/Eczema Photos/\n",
      "C:/Users/RAHUL NAIR/Documents/all folders/Project folder/HAM dataset/generated2/Eczema Photos/\n",
      "Found 1235 images belonging to 1 classes.\n",
      "C:/Users/RAHUL NAIR/Documents/all folders/Project folder/HAM dataset/sample/training/Exanthems and Drug Eruptions/\n",
      "C:/Users/RAHUL NAIR/Documents/all folders/Project folder/HAM dataset/generated2/Exanthems and Drug Eruptions/\n",
      "Found 404 images belonging to 1 classes.\n",
      "C:/Users/RAHUL NAIR/Documents/all folders/Project folder/HAM dataset/sample/training/Hair Loss Photos Alopecia and other Hair Diseases/\n",
      "C:/Users/RAHUL NAIR/Documents/all folders/Project folder/HAM dataset/generated2/Hair Loss Photos Alopecia and other Hair Diseases/\n",
      "Found 239 images belonging to 1 classes.\n",
      "C:/Users/RAHUL NAIR/Documents/all folders/Project folder/HAM dataset/sample/training/Herpes HPV and other STDs Photos/\n",
      "C:/Users/RAHUL NAIR/Documents/all folders/Project folder/HAM dataset/generated2/Herpes HPV and other STDs Photos/\n",
      "Found 405 images belonging to 1 classes.\n",
      "C:/Users/RAHUL NAIR/Documents/all folders/Project folder/HAM dataset/sample/training/Light Diseases and Disorders of Pigmentation/\n",
      "C:/Users/RAHUL NAIR/Documents/all folders/Project folder/HAM dataset/generated2/Light Diseases and Disorders of Pigmentation/\n",
      "Found 568 images belonging to 1 classes.\n",
      "C:/Users/RAHUL NAIR/Documents/all folders/Project folder/HAM dataset/sample/training/Lupus and other Connective Tissue diseases/\n",
      "C:/Users/RAHUL NAIR/Documents/all folders/Project folder/HAM dataset/generated2/Lupus and other Connective Tissue diseases/\n",
      "Found 420 images belonging to 1 classes.\n",
      "C:/Users/RAHUL NAIR/Documents/all folders/Project folder/HAM dataset/sample/training/Nail Fungus and other Nail Disease/\n",
      "C:/Users/RAHUL NAIR/Documents/all folders/Project folder/HAM dataset/generated2/Nail Fungus and other Nail Disease/\n",
      "Found 1040 images belonging to 1 classes.\n",
      "C:/Users/RAHUL NAIR/Documents/all folders/Project folder/HAM dataset/sample/training/Poison Ivy Photos and other Contact Dermatitis/\n",
      "C:/Users/RAHUL NAIR/Documents/all folders/Project folder/HAM dataset/generated2/Poison Ivy Photos and other Contact Dermatitis/\n",
      "Found 260 images belonging to 1 classes.\n",
      "C:/Users/RAHUL NAIR/Documents/all folders/Project folder/HAM dataset/sample/training/Psoriasis pictures Lichen Planus and related diseases/\n",
      "C:/Users/RAHUL NAIR/Documents/all folders/Project folder/HAM dataset/generated2/Psoriasis pictures Lichen Planus and related diseases/\n",
      "Found 1405 images belonging to 1 classes.\n",
      "C:/Users/RAHUL NAIR/Documents/all folders/Project folder/HAM dataset/sample/training/Scabies Lyme Disease and other Infestations and Bites/\n",
      "C:/Users/RAHUL NAIR/Documents/all folders/Project folder/HAM dataset/generated2/Scabies Lyme Disease and other Infestations and Bites/\n",
      "Found 431 images belonging to 1 classes.\n",
      "C:/Users/RAHUL NAIR/Documents/all folders/Project folder/HAM dataset/sample/training/Systemic Disease/\n",
      "C:/Users/RAHUL NAIR/Documents/all folders/Project folder/HAM dataset/generated2/Systemic Disease/\n",
      "Found 606 images belonging to 1 classes.\n",
      "C:/Users/RAHUL NAIR/Documents/all folders/Project folder/HAM dataset/sample/training/Tinea Ringworm Candidiasis and other Fungal Infections/\n",
      "C:/Users/RAHUL NAIR/Documents/all folders/Project folder/HAM dataset/generated2/Tinea Ringworm Candidiasis and other Fungal Infections/\n",
      "Found 1300 images belonging to 1 classes.\n",
      "C:/Users/RAHUL NAIR/Documents/all folders/Project folder/HAM dataset/sample/training/Urticaria Hives/\n",
      "C:/Users/RAHUL NAIR/Documents/all folders/Project folder/HAM dataset/generated2/Urticaria Hives/\n",
      "Found 212 images belonging to 1 classes.\n",
      "C:/Users/RAHUL NAIR/Documents/all folders/Project folder/HAM dataset/sample/training/Vascular Tumors/\n",
      "C:/Users/RAHUL NAIR/Documents/all folders/Project folder/HAM dataset/generated2/Vascular Tumors/\n",
      "Found 482 images belonging to 1 classes.\n",
      "C:/Users/RAHUL NAIR/Documents/all folders/Project folder/HAM dataset/sample/training/Vasculitis Photos/\n",
      "C:/Users/RAHUL NAIR/Documents/all folders/Project folder/HAM dataset/generated2/Vasculitis Photos/\n",
      "Found 416 images belonging to 1 classes.\n",
      "C:/Users/RAHUL NAIR/Documents/all folders/Project folder/HAM dataset/sample/training/Warts Molluscum and other Viral Infections/\n",
      "C:/Users/RAHUL NAIR/Documents/all folders/Project folder/HAM dataset/generated2/Warts Molluscum and other Viral Infections/\n",
      "Found 1086 images belonging to 1 classes.\n"
     ]
    }
   ],
   "source": [
    "# Define the directory structure where the images will be stored\n",
    "train_dir = 'C:/Users/RAHUL NAIR/Documents/all folders/Project folder/HAM dataset/generated2/'\n",
    "\n",
    "\n",
    "# Set the number of images to generate for each class\n",
    "num_images = 2000\n",
    "\n",
    "# Loop through each class directory and generate augmented images\n",
    "classes = ['bkl', 'nv', 'df', 'mel', 'vasc', 'bcc', 'akiec','healthy','Acne and Rosacea Photos','Atopic Dermatitis Photos','Bullous Disease Photos','Cellulitis Impetigo and other Bacterial Infections','Eczema Photos','Exanthems and Drug Eruptions', 'Hair Loss Photos Alopecia and other Hair Diseases', 'Herpes HPV and other STDs Photos',  'Light Diseases and Disorders of Pigmentation',  'Lupus and other Connective Tissue diseases', 'Nail Fungus and other Nail Disease',  'Poison Ivy Photos and other Contact Dermatitis',  'Psoriasis pictures Lichen Planus and related diseases',  'Scabies Lyme Disease and other Infestations and Bites',  'Systemic Disease',   'Tinea Ringworm Candidiasis and other Fungal Infections','Urticaria Hives','Vascular Tumors', 'Vasculitis Photos','Warts Molluscum and other Viral Infections']\n",
    "# classes = ['Warts Molluscum and other Viral Infections']\n",
    "for cl in classes:\n",
    "    # print(cl)\n",
    "    # Set the directory where the original images are located\n",
    "    src_dir = f'C:/Users/RAHUL NAIR/Documents/all folders/Project folder/HAM dataset/sample/training/{cl}/'\n",
    "    print(src_dir)\n",
    "    # Set the directory where the augmented images will be stored\n",
    "    train_cl_dir = train_dir + cl + '/'\n",
    "    print(train_cl_dir)\n",
    "\n",
    "    # Generate augmented images \n",
    "    i = 0\n",
    "    for batch in datagen.flow_from_directory(src_dir, target_size=(224,224), batch_size=32, save_to_dir=train_cl_dir, save_prefix=cl, save_format='jpeg'):\n",
    "        i += 1\n",
    "        if i >= (num_images / 32):\n",
    "            break\n"
   ]
  },
  {
   "cell_type": "code",
   "execution_count": null,
   "metadata": {},
   "outputs": [],
   "source": [
    "import os\n",
    "def get_dir_size(path):\n",
    "    total = 0\n",
    "    with os.scandir(path) as it:\n",
    "        for entry in it:\n",
    "            if entry.is_file():\n",
    "                total += entry.stat().st_size\n",
    "            elif entry.is_dir():\n",
    "                total += get_dir_size(entry.path)\n",
    "    return total\n",
    "\n",
    "directory_path = 'C:/Users/RAHUL NAIR/Documents/all folders/Project folder/HAM dataset/generated_images/'\n",
    "directory_size = get_dir_size(directory_path)\n",
    "print(f\"The size of the directory '{directory_path}' is {directory_size} bytes\")"
   ]
  },
  {
   "cell_type": "code",
   "execution_count": 4,
   "metadata": {},
   "outputs": [],
   "source": [
    "filenames=['bkl', 'nv', 'df', 'mel', 'vasc', 'bcc', 'akiec','healthy']"
   ]
  },
  {
   "cell_type": "code",
   "execution_count": 7,
   "metadata": {},
   "outputs": [
    {
     "name": "stdout",
     "output_type": "stream",
     "text": [
      "Found 25 images belonging to 1 classes.\n"
     ]
    }
   ],
   "source": [
    "gen = datagen.flow_from_directory(\n",
    "    directory='C:/Users/RAHUL NAIR/Documents/all folders/Project folder/HAM dataset/reorganized/data/healthy/',\n",
    "    target_size=(224, 224),\n",
    "    batch_size=1,\n",
    "    class_mode=None,\n",
    "    shuffle=True)"
   ]
  },
  {
   "cell_type": "code",
   "execution_count": 10,
   "metadata": {},
   "outputs": [
    {
     "ename": "ValueError",
     "evalue": "not enough values to unpack (expected 2, got 1)",
     "output_type": "error",
     "traceback": [
      "\u001b[1;31m---------------------------------------------------------------------------\u001b[0m",
      "\u001b[1;31mValueError\u001b[0m                                Traceback (most recent call last)",
      "Cell \u001b[1;32mIn[10], line 2\u001b[0m\n\u001b[0;32m      1\u001b[0m total_count \u001b[39m=\u001b[39m \u001b[39m0\u001b[39m\n\u001b[1;32m----> 2\u001b[0m \u001b[39mfor\u001b[39;00m X, _ \u001b[39min\u001b[39;00m gen:\n\u001b[0;32m      3\u001b[0m     \u001b[39mprint\u001b[39m(X)\n\u001b[0;32m      4\u001b[0m     \u001b[39mif\u001b[39;00m total_count \u001b[39m==\u001b[39m \u001b[39m5000\u001b[39m:\n",
      "\u001b[1;31mValueError\u001b[0m: not enough values to unpack (expected 2, got 1)"
     ]
    }
   ],
   "source": [
    "total_count = 0\n",
    "for X, _ in gen:\n",
    "    print(X)\n",
    "    if total_count == 5000:\n",
    "        break\n",
    "    total_count += 1\n",
    "    image = Image.fromarray(X[0].astype('uint8'))\n",
    "    image.save(f'C:/Users/RAHUL NAIR/Documents/all folders/Project folder/HAM dataset/generated_images/{total_count}.jpg')"
   ]
  }
 ],
 "metadata": {
  "kernelspec": {
   "display_name": "tf",
   "language": "python",
   "name": "python3"
  },
  "language_info": {
   "codemirror_mode": {
    "name": "ipython",
    "version": 3
   },
   "file_extension": ".py",
   "mimetype": "text/x-python",
   "name": "python",
   "nbconvert_exporter": "python",
   "pygments_lexer": "ipython3",
   "version": "3.9.15"
  },
  "orig_nbformat": 4,
  "vscode": {
   "interpreter": {
    "hash": "59a47b25b72a5e2cfcbe81cd8bdcf7a60a4802a7d1c9e7b2e456b34033659ac7"
   }
  }
 },
 "nbformat": 4,
 "nbformat_minor": 2
}
